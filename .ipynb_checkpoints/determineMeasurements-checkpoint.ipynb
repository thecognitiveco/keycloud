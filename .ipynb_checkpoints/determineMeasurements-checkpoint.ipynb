{
 "cells": [
  {
   "cell_type": "code",
   "execution_count": 7,
   "metadata": {},
   "outputs": [],
   "source": [
    "import cv2\n",
    "import os\n",
    "import numpy as np\n",
    "from matplotlib import pyplot as plt\n",
    "import argparse"
   ]
  },
  {
   "cell_type": "code",
   "execution_count": 67,
   "metadata": {},
   "outputs": [],
   "source": [
    "import time\n",
    "import datetime\n",
    "\n",
    "class MyKey:\n",
    "    timestamp = \"\"\n",
    "    keys = [\"Lockwood 4\",\"Lockwood 5\"]\n",
    "    filename = \"\"\n",
    "    est_code = \"\"\n",
    "    final_code = \"\"\n",
    "    key_type = \"\"\n",
    "    pin_1 = [-1,-1]\n",
    "    pin_2 = [-1,-1]\n",
    "    pin_3 = [-1,-1]\n",
    "    pin_4 = [-1,-1]\n",
    "    pin_5 = [-1,-1]\n",
    "    pin_6 = [-1,-1]\n",
    "    \n",
    "    def __init__(self, file):\n",
    "        self.filename = file\n",
    "        self.timestamp = datetime.datetime.fromtimestamp(time.time()).strftime('%Y-%m-%d %H:%M:%S')\n",
    "        \n",
    "    def printFilename(self):\n",
    "        print(self.filename)\n",
    "        \n",
    "    def printTimestamp(self):\n",
    "        print(self.timestamp)\n",
    "    \n",
    "    def printPins(self):\n",
    "        print(self.pin_1)\n",
    "        print(self.pin_2)\n",
    "        print(self.pin_3)\n",
    "        print(self.pin_4)\n",
    "        print(self.pin_5)\n",
    "        print(self.pin_6)\n",
    "        \n",
    "    def printKeyType(self):\n",
    "        print(self.key_type)\n",
    "        \n",
    "    def setKeyType(self):\n",
    "        flag = False\n",
    "        while (flag == False):\n",
    "            print(\"Choose key type:\")\n",
    "            for i in range(len(self.keys)):\n",
    "                print(\"[{}] - {}\".format(i,self.keys[i]))\n",
    "            input_key = int(input(\"Number: \"))\n",
    "            if (input_key < 0) or (input_key >= len(self.keys)):\n",
    "                print(\"input number must be between {} and {}\".format(\"0\",len(self.keys)))\n",
    "                flag = False\n",
    "            else:\n",
    "#                 input_key\n",
    "                self.key_type = self.keys[input_key]\n",
    "                print(\"Key Type is {}\".format(self.key_type))\n",
    "                flag = True"
   ]
  },
  {
   "cell_type": "code",
   "execution_count": 65,
   "metadata": {},
   "outputs": [
    {
     "name": "stdout",
     "output_type": "stream",
     "text": [
      "C:\\Users\\roshe\\Documents\\GitHub\\keycloud\\images\\key1.jpg\n",
      "2018-06-25 11:48:56\n",
      "[-1, -1]\n",
      "[-1, -1]\n",
      "[-1, -1]\n",
      "[-1, -1]\n",
      "[-1, -1]\n",
      "[-1, -1]\n",
      "Choose key type:\n",
      "[0] - Lockwood 4\n",
      "[1] - Lockwood 5\n",
      "Number: 1\n",
      "Key Type is Lockwood 5\n"
     ]
    }
   ],
   "source": [
    "thisKey = MyKey(image_path)\n",
    "thisKey.printFilename()\n",
    "thisKey.printTimestamp()\n",
    "thisKey.printPins()\n",
    "thisKey.setKeyType()"
   ]
  },
  {
   "cell_type": "code",
   "execution_count": 8,
   "metadata": {},
   "outputs": [
    {
     "name": "stdout",
     "output_type": "stream",
     "text": [
      "[(271, 336)]\n",
      "[(275, 340)]\n",
      "[(275, 342)]\n"
     ]
    }
   ],
   "source": [
    "# load and show file\n",
    "images_folder_path = os.getcwd() + \"\\images\\\\\" \n",
    "\n",
    "image_path = images_folder_path + \"lw5_unocode_525233.jpg\"\n",
    "\n",
    "image = cv2.imread(image_path)\n",
    "# cv2.imshow(\"orginal\", image)\n",
    "# cv2.waitKey(0)\n",
    "# cv2.destroyAllWindows()\n",
    "image_shape = image.shape\n",
    "# print(image.shape)\n",
    "\n",
    "# scale image down to 1000 pixels\n",
    "r = 1000.0/image.shape[1]\n",
    "dim = (1000,int(image.shape[0] * r))\n",
    "resized = cv2.resize(image, dim, interpolation = cv2.INTER_AREA)\n",
    "cv2.namedWindow(\"resized\")\n",
    "cv2.setMouseCallback(\"resized\", mouse_callback)\n",
    "clone = resized.copy()\n",
    "\n",
    "while True:\n",
    "    cv2.imshow(\"resized\", resized)\n",
    "    key = cv2.waitKey(1) & 0xFF\n",
    "    \n",
    "    # if the 'c' key is pressed, break from the loop\n",
    "    if key == ord(\"c\"):\n",
    "        cv2.destroyAllWindows()\n",
    "        break\n",
    "# if there are two reference points, then crop the region of interest\n",
    "# from teh image and display it\n",
    "if len(refPt) == 2:\n",
    "    roi = clone[refPt[0][1]:refPt[1][1], refPt[0][0]:refPt[1][0]]\n",
    "    cv2.imshow(\"ROI\", roi)\n",
    "    cv2.waitKey(0)\n",
    "    cv2.destroyAllWindows()\n",
    "    cv2.imwrite(\"roi.jpg\",roi)\n",
    "    "
   ]
  },
  {
   "cell_type": "code",
   "execution_count": 5,
   "metadata": {},
   "outputs": [],
   "source": [
    "# use mouse to select origin point\n",
    "def mouse_callback(event,x,y,flags,param):\n",
    "    # grab references to the global variables\n",
    "    global refPt, cropping\n",
    "    if event == cv2.EVENT_LBUTTONDBLCLK:\n",
    "        refPt = [(x, y)]\n",
    "        print(refPt)\n",
    "        \n",
    "    # if the left mouse button was clicked, record the starting\n",
    "    # (x, y) coordinates and indicate that cropping is being\n",
    "    # performed\n",
    "    elif event == cv2.EVENT_LBUTTONDOWN:\n",
    "        refPt = [(x, y)]\n",
    "        print(refPt)\n",
    "        cropping = True\n",
    " \n",
    "    # check to see if the left mouse button was released\n",
    "    elif event == cv2.EVENT_LBUTTONUP:\n",
    "        # record the ending (x, y) coordinates and indicate that\n",
    "        # the cropping operation is finished\n",
    "        if abs(x-refPt[0][0]) > 10 and abs(y-refPt[0][1]) > 10:\n",
    "            refPt.append((x, y))\n",
    "            cropping = False\n",
    "            # draw a rectangle around the region of interest\n",
    "            cv2.rectangle(resized, refPt[0], refPt[1], (0, 255, 0), 2)\n",
    "            cv2.imshow(\"resized\", resized)\n",
    "\n",
    "        \n",
    "    \n"
   ]
  },
  {
   "cell_type": "code",
   "execution_count": 71,
   "metadata": {},
   "outputs": [],
   "source": [
    "# reduce reflections in image\n",
    "\n",
    "hsv_image = cv2.cvtColor(resized, cv2.COLOR_RGB2HSV)\n",
    "h, s, v = cv2.split(hsv_image)\n",
    "\n",
    "clahe = cv2.createCLAHE(clipLimit=2.0, tileGridSize=(8,8))\n",
    "v = clahe.apply(v)\n",
    "\n",
    "hsv_image = cv2.merge([h, s, v])\n",
    "hsv_image = cv2.cvtColor(hsv_image, cv2.COLOR_HSV2RGB)\n",
    "cv2.imshow(\"reduced reflection\", hsv_image)\n",
    "cv2.waitKey(0)\n",
    "cv2.destroyAllWindows()"
   ]
  },
  {
   "cell_type": "code",
   "execution_count": 72,
   "metadata": {},
   "outputs": [
    {
     "ename": "NameError",
     "evalue": "name 'fgbg' is not defined",
     "output_type": "error",
     "traceback": [
      "\u001b[1;31m---------------------------------------------------------------------------\u001b[0m",
      "\u001b[1;31mNameError\u001b[0m                                 Traceback (most recent call last)",
      "\u001b[1;32m<ipython-input-72-d2d148111b4e>\u001b[0m in \u001b[0;36m<module>\u001b[1;34m()\u001b[0m\n\u001b[0;32m      5\u001b[0m \u001b[1;31m# fgbg = cv2.createBackgroundSubtractorMOG2()\u001b[0m\u001b[1;33m\u001b[0m\u001b[1;33m\u001b[0m\u001b[0m\n\u001b[0;32m      6\u001b[0m \u001b[1;33m\u001b[0m\u001b[0m\n\u001b[1;32m----> 7\u001b[1;33m \u001b[0mfgmask_image\u001b[0m \u001b[1;33m=\u001b[0m \u001b[0mfgbg\u001b[0m\u001b[1;33m.\u001b[0m\u001b[0mapply\u001b[0m\u001b[1;33m(\u001b[0m\u001b[0mhsv_image\u001b[0m\u001b[1;33m)\u001b[0m\u001b[1;33m\u001b[0m\u001b[0m\n\u001b[0m\u001b[0;32m      8\u001b[0m \u001b[1;33m\u001b[0m\u001b[0m\n\u001b[0;32m      9\u001b[0m \u001b[1;33m\u001b[0m\u001b[0m\n",
      "\u001b[1;31mNameError\u001b[0m: name 'fgbg' is not defined"
     ]
    }
   ],
   "source": [
    "# reduce shadow and background\n",
    "\n",
    "# DID NOT WORK\n",
    "\n",
    "fgbg = cv2.createBackgroundSubtractorMOG2()\n",
    "\n",
    "fgmask_image = fgbg.apply(hsv_image)\n",
    "\n",
    "\n",
    "\n",
    "cv2.imshow(\"fgmask\", fgmask_image)\n",
    "cv2.waitKey(0)\n",
    "cv2.destroyAllWindows()"
   ]
  },
  {
   "cell_type": "code",
   "execution_count": 114,
   "metadata": {},
   "outputs": [],
   "source": [
    "# extract key from image\n",
    "gray_image = cv2.cvtColor(resized, cv2.COLOR_BGR2GRAY)\n",
    "gray_image = cv2.GaussianBlur(gray_image, (7, 7), 0)\n",
    "# cv2.imshow(\"gray image\", gray_image)\n",
    "# cv2.waitKey(0)\n",
    "# cv2.destroyAllWindows()\n",
    "\n",
    "edges = cv2.Canny(gray_image,0,200)\n",
    "cv2.imshow(\"edges\", edges)\n",
    "cv2.waitKey(0)\n",
    "cv2.destroyAllWindows() "
   ]
  }
 ],
 "metadata": {
  "kernelspec": {
   "display_name": "Python 3",
   "language": "python",
   "name": "python3"
  },
  "language_info": {
   "codemirror_mode": {
    "name": "ipython",
    "version": 3
   },
   "file_extension": ".py",
   "mimetype": "text/x-python",
   "name": "python",
   "nbconvert_exporter": "python",
   "pygments_lexer": "ipython3",
   "version": "3.6.5"
  }
 },
 "nbformat": 4,
 "nbformat_minor": 2
}
