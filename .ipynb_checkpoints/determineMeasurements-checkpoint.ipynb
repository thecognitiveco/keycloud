{
 "cells": [
  {
   "cell_type": "code",
   "execution_count": 8,
   "metadata": {},
   "outputs": [],
   "source": [
    "import cv2\n",
    "import os\n",
    "import numpy as np\n",
    "from matplotlib import pyplot as plt\n",
    "import argparse"
   ]
  },
  {
   "cell_type": "code",
   "execution_count": 3,
   "metadata": {},
   "outputs": [
    {
     "name": "stdout",
     "output_type": "stream",
     "text": [
      "(2448, 3264, 3)\n"
     ]
    }
   ],
   "source": [
    "# load and show file\n",
    "images_folder_path = os.getcwd() + \"\\images\\\\\" \n",
    "\n",
    "image_path = images_folder_path + \"key1.jpg\"\n",
    "\n",
    "image = cv2.imread(image_path)\n",
    "cv2.imshow(\"orginal\", image)\n",
    "cv2.waitKey(0)\n",
    "cv2.destroyAllWindows()\n",
    "image_shape = image.shape\n",
    "print(image.shape)"
   ]
  },
  {
   "cell_type": "code",
   "execution_count": 15,
   "metadata": {},
   "outputs": [],
   "source": [
    "# scale image down to 1000 pixels\n",
    "r = 1000.0/image.shape[1]\n",
    "dim = (1000,int(image.shape[0] * r))\n",
    "resized = cv2.resize(image, dim, interpolation = cv2.INTER_AREA)\n",
    "cv2.setMouseCallback(\"resized\", mouse_callback)\n",
    "cv2.imshow(\"resized\", resized)\n",
    "key = cv2.waitKey(1) & 0xFF\n",
    "\n",
    "# if the 'r' key is pressed, reset the cropping region\n",
    "    if key == ord(\"r\"):\n",
    "        image = clone.copy()\n",
    "    # if the 'c' key is pressed, break from the loop\n",
    "    elif key == ord(\"c\"):\n",
    "        break\n",
    "\n",
    "cv2.destroyAllWindows()\n",
    "\n"
   ]
  },
  {
   "cell_type": "code",
   "execution_count": 24,
   "metadata": {},
   "outputs": [],
   "source": [
    "# reduce reflections in image\n",
    "\n",
    "hsv_image = cv2.cvtColor(resized, cv2.COLOR_RGB2HSV)\n",
    "h, s, v = cv2.split(hsv_image)\n",
    "\n",
    "clahe = cv2.createCLAHE(clipLimit=2.0, tileGridSize=(8,8))\n",
    "v = clahe.apply(v)\n",
    "\n",
    "hsv_image = cv2.merge([h, s, v])\n",
    "hsv_image = cv2.cvtColor(hsv_image, cv2.COLOR_HSV2RGB)\n",
    "cv2.imshow(\"reduced reflection\", hsv_image)\n",
    "cv2.waitKey(0)\n",
    "cv2.destroyAllWindows()"
   ]
  },
  {
   "cell_type": "code",
   "execution_count": 33,
   "metadata": {},
   "outputs": [],
   "source": [
    "# reduce shadow and background\n",
    "\n",
    "# DID NOT WORK\n",
    "\n",
    "# fgbg = cv2.createBackgroundSubtractorMOG2()\n",
    "\n",
    "fgmask_image = fgbg.apply(hsv_image)\n",
    "\n",
    "\n",
    "\n",
    "cv2.imshow(\"fgmask\", fgmask_image)\n",
    "cv2.waitKey(0)\n",
    "cv2.destroyAllWindows()"
   ]
  },
  {
   "cell_type": "code",
   "execution_count": 34,
   "metadata": {},
   "outputs": [],
   "source": [
    "# extract key from image\n",
    "gray_image = cv2.cvtColor(hsv_image, cv2.COLOR_BGR2GRAY)\n",
    "# cv2.imshow(\"gray image\", gray)\n",
    "# cv2.waitKey(0)\n",
    "# cv2.destroyAllWindows()\n",
    "\n",
    "edges = cv2.Canny(gray_image,100,150)\n",
    "cv2.imshow(\"edges\", edges)\n",
    "cv2.waitKey(0)\n",
    "cv2.destroyAllWindows() "
   ]
  },
  {
   "cell_type": "code",
   "execution_count": 5,
   "metadata": {},
   "outputs": [],
   "source": [
    "\n",
    "blurred = cv2.pyrMeanShiftFiltering(resized, 3, 3)\n",
    "hsv = cv2.cvtColor(blurred, cv2.COLOR_BGR2HSV)\n",
    "kernel = np.ones((2,2),np.uint8)\n",
    "\n",
    "lower_range = np.array([150, 10, 10])\n",
    "upper_range = np.array([180, 255, 255])\n",
    "mask = cv2.inRange(hsv, lower_range, upper_range)\n",
    "\n",
    "dilation = cv2.dilate(mask,kernel,iterations = 1)\n",
    "\n",
    "closing = cv2.morphologyEx(dilation, cv2.MORPH_GRADIENT, kernel)\n",
    "closing = cv2.morphologyEx(dilation, cv2.MORPH_CLOSE, kernel)\n",
    "\n",
    "#Getting the edge of morphology\n",
    "edge = cv2.Canny(closing, 175, 175)\n",
    "_, contours,hierarchy = cv2.findContours(edge, cv2.RETR_TREE, cv2.CHAIN_APPROX_SIMPLE)\n",
    "\n",
    "# Find the index of the largest contour\n",
    "areas = [cv2.contourArea(c) for c in contours]\n",
    "max_index = np.argmax(areas)\n",
    "cnt=contours[max_index]\n",
    "\n",
    "x,y,w,h = cv2.boundingRect(cnt)\n",
    "cv2.rectangle(resized,(x,y),(x+w,y+h),(0,255,0),2)\n",
    "\n",
    "\n",
    "cv2.imshow('threshold', resized)\n",
    "cv2.imshow('edge', edge)\n",
    "cv2.waitKey(0)\n",
    "cv2.destroyAllWindows() "
   ]
  },
  {
   "cell_type": "code",
   "execution_count": 14,
   "metadata": {},
   "outputs": [],
   "source": [
    "# use mouse to select origin point\n",
    "def mouse_callback(event,x,y,flags,param):\n",
    "    # grab references to the global variables\n",
    "    global refPt, cropping\n",
    "    if event == cv2.EVENT_LBUTTONDOWN:\n",
    "        print(x, y)\n",
    "\n"
   ]
  }
 ],
 "metadata": {
  "kernelspec": {
   "display_name": "Python 3",
   "language": "python",
   "name": "python3"
  },
  "language_info": {
   "codemirror_mode": {
    "name": "ipython",
    "version": 3
   },
   "file_extension": ".py",
   "mimetype": "text/x-python",
   "name": "python",
   "nbconvert_exporter": "python",
   "pygments_lexer": "ipython3",
   "version": "3.6.5"
  }
 },
 "nbformat": 4,
 "nbformat_minor": 2
}
