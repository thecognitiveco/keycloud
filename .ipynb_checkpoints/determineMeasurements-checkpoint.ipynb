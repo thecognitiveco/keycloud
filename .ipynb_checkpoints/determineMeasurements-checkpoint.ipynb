{
 "cells": [
  {
   "cell_type": "code",
   "execution_count": 2,
   "metadata": {},
   "outputs": [],
   "source": [
    "import cv2\n",
    "import os"
   ]
  },
  {
   "cell_type": "code",
   "execution_count": 9,
   "metadata": {},
   "outputs": [
    {
     "name": "stdout",
     "output_type": "stream",
     "text": [
      "(2448, 3264, 3)\n"
     ]
    }
   ],
   "source": [
    "# load and show file\n",
    "images_folder_path = os.getcwd() + \"\\images\\\\\" \n",
    "\n",
    "image_path = images_folder_path + \"key1.jpg\"\n",
    "\n",
    "image = cv2.imread(image_path)\n",
    "cv2.imshow(\"orginal\", image)\n",
    "cv2.waitKey(0)\n",
    "cv2.destroyAllWindows()\n",
    "image_shape = image.shape\n",
    "print(image.shape)"
   ]
  },
  {
   "cell_type": "code",
   "execution_count": 10,
   "metadata": {},
   "outputs": [],
   "source": [
    "# scale image down to 1000 pixels\n",
    "r = 1000.0/image.shape[1]\n",
    "dim = (1000,int(image.shape[0] * r))\n",
    "resized = cv2.resize(image, dim, interpolation = cv2.INTER_AREA)\n",
    "cv2.imshow(\"resized\", resized)\n",
    "cv2.waitKey(0)\n",
    "cv2.destroyAllWindows()"
   ]
  },
  {
   "cell_type": "code",
   "execution_count": null,
   "metadata": {},
   "outputs": [],
   "source": [
    "# extract key from image"
   ]
  }
 ],
 "metadata": {
  "kernelspec": {
   "display_name": "Python 3",
   "language": "python",
   "name": "python3"
  },
  "language_info": {
   "codemirror_mode": {
    "name": "ipython",
    "version": 3
   },
   "file_extension": ".py",
   "mimetype": "text/x-python",
   "name": "python",
   "nbconvert_exporter": "python",
   "pygments_lexer": "ipython3",
   "version": "3.6.5"
  }
 },
 "nbformat": 4,
 "nbformat_minor": 2
}
