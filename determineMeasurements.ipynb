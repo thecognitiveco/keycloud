{
 "cells": [
  {
   "cell_type": "code",
   "execution_count": 12,
   "metadata": {},
   "outputs": [],
   "source": [
    "import cv2\n",
    "import os\n",
    "import numpy as np\n",
    "from matplotlib import pyplot as plt"
   ]
  },
  {
   "cell_type": "code",
   "execution_count": 9,
   "metadata": {},
   "outputs": [
    {
     "name": "stdout",
     "output_type": "stream",
     "text": [
      "(2448, 3264, 3)\n"
     ]
    }
   ],
   "source": [
    "# load and show file\n",
    "images_folder_path = os.getcwd() + \"\\images\\\\\" \n",
    "\n",
    "image_path = images_folder_path + \"key1.jpg\"\n",
    "\n",
    "image = cv2.imread(image_path)\n",
    "cv2.imshow(\"orginal\", image)\n",
    "cv2.waitKey(0)\n",
    "cv2.destroyAllWindows()\n",
    "image_shape = image.shape\n",
    "print(image.shape)"
   ]
  },
  {
   "cell_type": "code",
   "execution_count": 10,
   "metadata": {},
   "outputs": [],
   "source": [
    "# scale image down to 1000 pixels\n",
    "r = 1000.0/image.shape[1]\n",
    "dim = (1000,int(image.shape[0] * r))\n",
    "resized = cv2.resize(image, dim, interpolation = cv2.INTER_AREA)\n",
    "cv2.imshow(\"resized\", resized)\n",
    "cv2.waitKey(0)\n",
    "cv2.destroyAllWindows()"
   ]
  },
  {
   "cell_type": "code",
   "execution_count": 24,
   "metadata": {},
   "outputs": [],
   "source": [
    "# reduce reflections in image\n",
    "\n",
    "hsv_image = cv2.cvtColor(resized, cv2.COLOR_RGB2HSV)\n",
    "h, s, v = cv2.split(hsv_image)\n",
    "\n",
    "clahe = cv2.createCLAHE(clipLimit=2.0, tileGridSize=(8,8))\n",
    "v = clahe.apply(v)\n",
    "\n",
    "hsv_image = cv2.merge([h, s, v])\n",
    "hsv_image = cv2.cvtColor(hsv_image, cv2.COLOR_HSV2RGB)\n",
    "cv2.imshow(\"reduced reflection\", hsv_image)\n",
    "cv2.waitKey(0)\n",
    "cv2.destroyAllWindows()"
   ]
  },
  {
   "cell_type": "code",
   "execution_count": 33,
   "metadata": {},
   "outputs": [],
   "source": [
    "# reduce shadow and background\n",
    "\n",
    "# DID NOT WORK\n",
    "\n",
    "# fgbg = cv2.createBackgroundSubtractorMOG2()\n",
    "\n",
    "fgmask_image = fgbg.apply(hsv_image)\n",
    "\n",
    "\n",
    "\n",
    "cv2.imshow(\"fgmask\", fgmask_image)\n",
    "cv2.waitKey(0)\n",
    "cv2.destroyAllWindows()"
   ]
  },
  {
   "cell_type": "code",
   "execution_count": 34,
   "metadata": {},
   "outputs": [],
   "source": [
    "# extract key from image\n",
    "gray_image = cv2.cvtColor(hsv_image, cv2.COLOR_BGR2GRAY)\n",
    "# cv2.imshow(\"gray image\", gray)\n",
    "# cv2.waitKey(0)\n",
    "# cv2.destroyAllWindows()\n",
    "\n",
    "edges = cv2.Canny(gray_image,100,150)\n",
    "cv2.imshow(\"edges\", edges)\n",
    "cv2.waitKey(0)\n",
    "cv2.destroyAllWindows() "
   ]
  }
 ],
 "metadata": {
  "kernelspec": {
   "display_name": "Python 3",
   "language": "python",
   "name": "python3"
  },
  "language_info": {
   "codemirror_mode": {
    "name": "ipython",
    "version": 3
   },
   "file_extension": ".py",
   "mimetype": "text/x-python",
   "name": "python",
   "nbconvert_exporter": "python",
   "pygments_lexer": "ipython3",
   "version": "3.6.5"
  }
 },
 "nbformat": 4,
 "nbformat_minor": 2
}
